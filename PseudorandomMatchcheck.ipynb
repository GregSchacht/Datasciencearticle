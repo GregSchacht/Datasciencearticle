{
 "cells": [
  {
   "cell_type": "code",
   "execution_count": 4,
   "id": "b9e0f1fb-c2b3-43dd-b268-07ce6eedcd70",
   "metadata": {},
   "outputs": [],
   "source": [
    "import random"
   ]
  },
  {
   "cell_type": "code",
   "execution_count": 16,
   "id": "8833c6f3-b0ef-4459-8be9-fc82722b207a",
   "metadata": {},
   "outputs": [],
   "source": [
    "def rolls():\n",
    "    x=1\n",
    "    cont=[]\n",
    "    while True:\n",
    "        cont=cont+[random.randint(1,6)]\n",
    "        x=x+1\n",
    "        if x==100:\n",
    "            return cont"
   ]
  },
  {
   "cell_type": "code",
   "execution_count": 27,
   "id": "76ada934-aab3-4014-bd80-3c88a665fbf2",
   "metadata": {},
   "outputs": [
    {
     "name": "stdout",
     "output_type": "stream",
     "text": [
      "These are not the same.\n",
      "These are the same.\n"
     ]
    }
   ],
   "source": [
    "box1=rolls()\n",
    "box2=rolls()\n",
    "if box1 != box2: print(\"These are not the same.\")\n",
    "random.seed(1)\n",
    "box3=rolls()\n",
    "random.seed(1)\n",
    "box4=rolls()\n",
    "if box3 == box4: print(\"These are the same.\")"
   ]
  }
 ],
 "metadata": {
  "kernelspec": {
   "display_name": "Python 3",
   "language": "python",
   "name": "python3"
  },
  "language_info": {
   "codemirror_mode": {
    "name": "ipython",
    "version": 3
   },
   "file_extension": ".py",
   "mimetype": "text/x-python",
   "name": "python",
   "nbconvert_exporter": "python",
   "pygments_lexer": "ipython3",
   "version": "3.8.8"
  }
 },
 "nbformat": 4,
 "nbformat_minor": 5
}
